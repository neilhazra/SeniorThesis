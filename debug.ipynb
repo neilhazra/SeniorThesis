{
 "cells": [
  {
   "cell_type": "code",
   "execution_count": 2,
   "metadata": {},
   "outputs": [
    {
     "name": "stderr",
     "output_type": "stream",
     "text": [
      "/mnt/batch/tasks/shared/LS_root/mounts/clusters/nhazra1/code/Users/nhazra/SeniorThesis/DiscreteVariationalParameterizations.py:19: UserWarning: nn.init.xavier_uniform is now deprecated in favor of nn.init.xavier_uniform_.\n",
      "  torch.nn.init.xavier_uniform(self.b)\n",
      "/mnt/batch/tasks/shared/LS_root/mounts/clusters/nhazra1/code/Users/nhazra/SeniorThesis/DiscreteVariationalParameterizations.py:20: UserWarning: nn.init.xavier_uniform is now deprecated in favor of nn.init.xavier_uniform_.\n",
      "  torch.nn.init.xavier_uniform(self.c)\n",
      "/mnt/batch/tasks/shared/LS_root/mounts/clusters/nhazra1/code/Users/nhazra/SeniorThesis/DiscreteVariationalParameterizations.py:21: UserWarning: nn.init.xavier_uniform is now deprecated in favor of nn.init.xavier_uniform_.\n",
      "  torch.nn.init.xavier_uniform(self.W, gain=1)\n",
      "/mnt/batch/tasks/shared/LS_root/mounts/clusters/nhazra1/code/Users/nhazra/SeniorThesis/DiscreteVariationalParameterizations.py:98: UserWarning: nn.init.xavier_uniform is now deprecated in favor of nn.init.xavier_uniform_.\n",
      "  torch.nn.init.xavier_uniform(self.linear_1_weight)\n",
      "/mnt/batch/tasks/shared/LS_root/mounts/clusters/nhazra1/code/Users/nhazra/SeniorThesis/DiscreteVariationalParameterizations.py:99: UserWarning: nn.init.xavier_uniform is now deprecated in favor of nn.init.xavier_uniform_.\n",
      "  torch.nn.init.xavier_uniform(self.linear_2_weight)\n"
     ]
    }
   ],
   "source": [
    "import torch\n",
    "import torch.nn as nn\n",
    "import DiscreteVariationalParameterizations as DVP\n",
    "from SSEPDatasetGenerator import SEPGenerator\n",
    "from GibbsSampling import BatchedConditionalGibbsSampler\n",
    "from TrainDiscreteEmbeddingMI import EmbeddingMI1\n",
    "\n",
    "model = EmbeddingMI1(256, 32, 32)    \n",
    "model.load_state_dict(torch.load('/home/azureuser/cloudfiles/code/32_32.model'))\n",
    "model = model.cuda()"
   ]
  },
  {
   "cell_type": "code",
   "execution_count": 3,
   "metadata": {},
   "outputs": [
    {
     "name": "stdout",
     "output_type": "stream",
     "text": [
      "tensor([1., 0., 0., 0., 0., 1., 0., 0., 0., 0., 0., 0., 0., 0., 0., 1., 1., 0.,\n",
      "        0., 0., 1., 0., 0., 0., 0., 1., 0., 1., 0., 0., 0., 1.],\n",
      "       device='cuda:0')\n",
      "tensor([1., 0., 0., 0., 0., 1., 0., 0., 0., 0., 0., 0., 0., 0., 0., 1., 1., 0.,\n",
      "        0., 0., 1., 0., 0., 0., 0., 1., 0., 1., 0., 0., 0., 1.],\n",
      "       device='cuda:0')\n"
     ]
    }
   ],
   "source": [
    "gen = SEPGenerator(space_size=32, num_samples=256, time_period=0,\n",
    "                           inverse_density=4)\n",
    "\n",
    "initial_state = gen.data.clone().cuda().float()\n",
    "gen.run()\n",
    "final_state = gen.data.clone().cuda().float()\n",
    "\n",
    "print(initial_state[0])\n",
    "print(final_state[0])"
   ]
  },
  {
   "cell_type": "code",
   "execution_count": 4,
   "metadata": {},
   "outputs": [
    {
     "name": "stdout",
     "output_type": "stream",
     "text": [
      "tensor([0., 1., 1., 1., 0., 1., 1., 1., 0., 0., 1., 1., 0., 0., 0., 1., 0., 0.,\n",
      "        0., 1., 1., 0., 0., 0., 0., 0., 0., 0., 1., 1., 0., 1.],\n",
      "       device='cuda:0')\n",
      "tensor([0., 1., 1., 1., 0., 1., 1., 1., 0., 0., 1., 1., 0., 1., 0., 1., 0., 0.,\n",
      "        0., 1., 1., 0., 0., 0., 0., 0., 0., 0., 1., 1., 0., 1.],\n",
      "       device='cuda:0')\n"
     ]
    }
   ],
   "source": [
    "W = model.encoder_decoder.encoder_sample_(initial_state)\n",
    "Z = model.encoder_decoder.encoder_sample_(final_state)\n",
    "print(W[0])\n",
    "print(Z[0])"
   ]
  },
  {
   "cell_type": "code",
   "execution_count": 10,
   "metadata": {},
   "outputs": [
    {
     "name": "stdout",
     "output_type": "stream",
     "text": [
      "Mutual Information 15.493816349506378\n",
      "Information Lost in Nats 0.6661836504936218\n"
     ]
    }
   ],
   "source": [
    "x_w = model.encoder_decoder.conditional_log_probability_x_given_w_(W, initial_state)\n",
    "w_x = model.encoder_decoder.conditional_log_probability_w_given_x_(W, initial_state)\n",
    "# initial state needed for proposal distribution\n",
    "w_z = model.embedding_dynamics.estimated_normalized_log_probabilities_w_given_z_better_(Z, W, initial_state, model)\n",
    "loss = x_w - w_x + w_z\n",
    "print('Mutual Information', 16.16 + loss.mean().detach().cpu().item())\n",
    "print('Information Lost in Nats', -loss.mean().detach().cpu().item())"
   ]
  },
  {
   "cell_type": "code",
   "execution_count": 6,
   "metadata": {},
   "outputs": [
    {
     "name": "stdout",
     "output_type": "stream",
     "text": [
      "Parameter containing:\n",
      "tensor([[[ -0.7162,  -0.6939,  -0.5457,  ...,  -8.0163,  -0.9889,  -0.7271],\n",
      "         [  0.8929,   1.4063,   1.2980,  ...,   1.7970,   0.9372,   1.7802],\n",
      "         [ -1.0806,  -1.9294,  -1.7387,  ...,  -1.6820,  -1.0386,  24.6036],\n",
      "         ...,\n",
      "         [ -1.2108,  -1.4533,  -1.0337,  ...,  -1.8103,  -1.2306,  -1.3106],\n",
      "         [  1.0834,   0.5674,   0.7735,  ...,   1.2115, -13.6508,   0.8256],\n",
      "         [  0.4552,   0.4463,   0.6506,  ...,   0.5289,   0.8511,   0.9722]]],\n",
      "       device='cuda:0', requires_grad=True)\n"
     ]
    }
   ],
   "source": [
    "print(model.encoder_decoder.W)"
   ]
  }
 ],
 "metadata": {
  "kernelspec": {
   "display_name": "Python 3.8.5 ('azureml_py38')",
   "language": "python",
   "name": "python3"
  },
  "language_info": {
   "codemirror_mode": {
    "name": "ipython",
    "version": 3
   },
   "file_extension": ".py",
   "mimetype": "text/x-python",
   "name": "python",
   "nbconvert_exporter": "python",
   "pygments_lexer": "ipython3",
   "version": "3.8.5"
  },
  "orig_nbformat": 4,
  "vscode": {
   "interpreter": {
    "hash": "6d65a8c07f5b6469e0fc613f182488c0dccce05038bbda39e5ac9075c0454d11"
   }
  }
 },
 "nbformat": 4,
 "nbformat_minor": 2
}
